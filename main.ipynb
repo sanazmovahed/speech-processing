{
 "cells": [
  {
   "cell_type": "markdown",
   "metadata": {},
   "source": [
    "Audio File Formats: \n",
    "- mp3\n",
    "- flac\n",
    "- wav"
   ]
  },
  {
   "cell_type": "code",
   "execution_count": 1,
   "metadata": {},
   "outputs": [],
   "source": [
    "import wave\n",
    "\n",
    "#Audio Signal Parameters\n",
    "# - number of channels\n",
    "# - sample width\n",
    "# - framerate/sample-rate/sample-frequency\n",
    "# - number of frames\n",
    "# - Value of a frame"
   ]
  },
  {
   "cell_type": "code",
   "execution_count": 18,
   "metadata": {},
   "outputs": [
    {
     "name": "stdout",
     "output_type": "stream",
     "text": [
      "Number of Channels:  2\n",
      "Sample Width:  2\n",
      "Frame Rate:  44100\n",
      "Number of Frames:  809508\n",
      "All Parameters:  _wave_params(nchannels=2, sampwidth=2, framerate=44100, nframes=809508, comptype='NONE', compname='not compressed')\n"
     ]
    }
   ],
   "source": [
    "# Load a wav file and get its parameters and show them\n",
    "obj = wave.open(\"audios/harvard.wav\", \"rb\")\n",
    "n_channels = obj.getnchannels()\n",
    "sample_w = obj.getsampwidth()\n",
    "frame_rate = obj.getframerate()\n",
    "n_frames = obj.getnframes()\n",
    "print(\"Number of Channels: \", n_channels)\n",
    "print(\"Sample Width: \", sample_w)\n",
    "print(\"Frame Rate: \", frame_rate)\n",
    "print(\"Number of Frames: \", n_frames)\n",
    "\n",
    "print(\"All Parameters: \", obj.getparams())"
   ]
  },
  {
   "cell_type": "code",
   "execution_count": 19,
   "metadata": {},
   "outputs": [
    {
     "name": "stdout",
     "output_type": "stream",
     "text": [
      "Time of audio file:  18.356190476190477\n",
      "<class 'bytes'> <class 'int'>\n",
      "3238032\n",
      "1619016.0\n"
     ]
    }
   ],
   "source": [
    "# Getting lenght of the audio\n",
    "t_audio = obj.getnframes() / obj.getframerate()\n",
    "print(\"Time of audio file: \", t_audio)\n",
    "\n",
    "# Getting frames of the audio file\n",
    "frames = obj.readframes(-1) # -1 means all frames\n",
    "print(type(frames), type(frames[0]))\n",
    "print(len(frames))\n",
    "print(len(frames) / obj.getsampwidth())\n",
    "\n",
    "obj.close()"
   ]
  },
  {
   "cell_type": "code",
   "execution_count": null,
   "metadata": {},
   "outputs": [],
   "source": [
    "# Copy the audio file as another wav file\n",
    "obj_new = wave.open(\"audios/Sanaz.wav\", \"wb\")\n",
    "obj_new.setnchannels(n_channels)\n",
    "obj_new.setsampwidth(sample_w)\n",
    "obj_new.setframerate(frame_rate)\n",
    "\n",
    "obj_new.writeframes(frames)\n",
    "obj_new.close()"
   ]
  }
 ],
 "metadata": {
  "kernelspec": {
   "display_name": "Python 3",
   "language": "python",
   "name": "python3"
  },
  "language_info": {
   "codemirror_mode": {
    "name": "ipython",
    "version": 3
   },
   "file_extension": ".py",
   "mimetype": "text/x-python",
   "name": "python",
   "nbconvert_exporter": "python",
   "pygments_lexer": "ipython3",
   "version": "3.11.3"
  }
 },
 "nbformat": 4,
 "nbformat_minor": 2
}
